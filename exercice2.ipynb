{
 "cells": [
  {
   "cell_type": "code",
   "execution_count": null,
   "id": "20c8bf21",
   "metadata": {},
   "outputs": [],
   "source": [
    "source_sentences = [\n",
    "    \"A red sports car is speeding down a highway.\",\n",
    "    \"A mechanic is repairing a car in a garage.\",\n",
    "    \"A family is loading luggage into the trunk of a car.\",\n",
    "    \"Two cars are racing on a mountain road.\",\n",
    "    \"A man is washing his car in the driveway.\",\n",
    "    \"A woman is getting into a parked sedan.\",\n",
    "    \"A convertible is driving along the coast at sunset.\",\n",
    "    \"Children are sitting in the backseat of a minivan.\",\n",
    "    \"A taxi is stopping to pick up passengers.\",\n",
    "    \"A police car is parked on the side of the road.\",\n",
    "    \"A group of vintage cars is on display at a car show.\",\n",
    "    \"A delivery van is unloading packages in front of a store.\",\n",
    "    \"A driver is refueling at a gas station.\",\n",
    "    \"A tow truck is pulling a broken-down vehicle.\",\n",
    "    \"A car is covered in snow on a winter morning.\",\n",
    "    \"A couple is sitting in a car at a drive-in movie theater.\",\n",
    "    \"A car is stuck in traffic on a busy street.\",\n",
    "    \"A rally car is jumping over a dirt ramp.\",\n",
    "    \"A driver is checking the tire pressure before a trip.\",\n",
    "    \"People are admiring a classic car from the 1950s.\",\n",
    "    \"A child is pretending to drive a parked car.\",\n",
    "    \"A sports car is parked in front of a luxury hotel.\",\n",
    "    \"A convertible is cruising through the countryside.\",\n",
    "    \"A man is installing a baby seat in the back of a car.\",\n",
    "    \"An electric car is plugged into a charging station.\",\n",
    "    \"A racecar is making a sharp turn on the racetrack.\",\n",
    "    \"A limousine is arriving at a wedding venue.\",\n",
    "    \"A car alarm is going off in a parking lot.\",\n",
    "    \"A woman is using her key fob to unlock her car.\",\n",
    "    \"A traffic jam stretches down a multi-lane road.\"\n",
    "]\n",
    "\n",
    "target_sentences = [\n",
    "    \"Une voiture de sport rouge roule à grande vitesse sur une autoroute.\",\n",
    "    \"Un mécanicien répare une voiture dans un garage.\",\n",
    "    \"Une famille charge des bagages dans le coffre d'une voiture.\",\n",
    "    \"Deux voitures font la course sur une route de montagne.\",\n",
    "    \"Un homme lave sa voiture dans l'allée.\",\n",
    "    \"Une femme monte dans une berline garée.\",\n",
    "    \"Un cabriolet longe la côte au coucher du soleil.\",\n",
    "    \"Des enfants sont assis à l’arrière d’un minivan.\",\n",
    "    \"Un taxi s’arrête pour prendre des passagers.\",\n",
    "    \"Une voiture de police est garée sur le bord de la route.\",\n",
    "    \"Un groupe de voitures anciennes est exposé lors d’un salon automobile.\",\n",
    "    \"Une camionnette de livraison décharge des colis devant un magasin.\",\n",
    "    \"Un conducteur fait le plein à une station-service.\",\n",
    "    \"Une dépanneuse remorque un véhicule en panne.\",\n",
    "    \"Une voiture est recouverte de neige un matin d’hiver.\",\n",
    "    \"Un couple est assis dans une voiture au cinéma en plein air.\",\n",
    "    \"Une voiture est coincée dans les embouteillages sur une rue animée.\",\n",
    "    \"Une voiture de rallye saute par-dessus une rampe de terre.\",\n",
    "    \"Un conducteur vérifie la pression des pneus avant un voyage.\",\n",
    "    \"Des gens admirent une voiture classique des années 1950.\",\n",
    "    \"Un enfant fait semblant de conduire une voiture garée.\",\n",
    "    \"Une voiture de sport est garée devant un hôtel de luxe.\",\n",
    "    \"Un cabriolet traverse paisiblement la campagne.\",\n",
    "    \"Un homme installe un siège bébé à l’arrière d’une voiture.\",\n",
    "    \"Une voiture électrique est branchée à une borne de recharge.\",\n",
    "    \"Une voiture de course prend un virage serré sur le circuit.\",\n",
    "    \"Une limousine arrive à un lieu de mariage.\",\n",
    "    \"Une alarme de voiture retentit dans un parking.\",\n",
    "    \"Une femme utilise sa clé à distance pour ouvrir sa voiture.\",\n",
    "    \"Un embouteillage s’étend sur une route à plusieurs voies.\"\n",
    "]\n"
   ]
  },
  {
   "cell_type": "code",
   "execution_count": 4,
   "id": "ec538576",
   "metadata": {},
   "outputs": [],
   "source": [
    "from transformers import AutoTokenizer,AutoModelForSeq2SeqLM\n",
    "model_checkpoint=\"t5-small\"\n",
    "model=AutoModelForSeq2SeqLM.from_pretrained(model_checkpoint)\n",
    "tokenizer=AutoTokenizer.from_pretrained(model_checkpoint)"
   ]
  },
  {
   "cell_type": "code",
   "execution_count": null,
   "id": "76011ccc",
   "metadata": {},
   "outputs": [],
   "source": [
    "def preprocess(example):\n",
    "    full_text=\"transalte from English to French: \"+example[\"source\"]\n",
    "    model_input=tokenizer(full_text)\n",
    "    with tokenizer.as_target_tokenizer():\n",
    "        model_input[\"labels\"]=tokenizer(example[\"target\"]).input_ids\n",
    "    return model_input\n"
   ]
  },
  {
   "cell_type": "code",
   "execution_count": null,
   "id": "4e34cc3b",
   "metadata": {},
   "outputs": [],
   "source": [
    "from transformers import TrainingArguments,Trainer\n",
    "\n",
    "arguments=TrainingArguments(\n",
    "    output_dir=\"exo2\",\n",
    "    logging_strategy=\"epoch\",\n",
    "    num_train_epochs=10,\n",
    ")\n",
    "\n",
    "trainer=Trainer(\n",
    "    model=model,\n",
    "    tokenizer=tokenizer,\n",
    "    args=arguments\n",
    ")"
   ]
  },
  {
   "cell_type": "code",
   "execution_count": null,
   "id": "0bb96f2d",
   "metadata": {},
   "outputs": [],
   "source": []
  },
  {
   "cell_type": "code",
   "execution_count": null,
   "id": "f0e3170c",
   "metadata": {},
   "outputs": [],
   "source": []
  }
 ],
 "metadata": {
  "kernelspec": {
   "display_name": "torch-env",
   "language": "python",
   "name": "python3"
  },
  "language_info": {
   "codemirror_mode": {
    "name": "ipython",
    "version": 3
   },
   "file_extension": ".py",
   "mimetype": "text/x-python",
   "name": "python",
   "nbconvert_exporter": "python",
   "pygments_lexer": "ipython3",
   "version": "3.11.13"
  }
 },
 "nbformat": 4,
 "nbformat_minor": 5
}
