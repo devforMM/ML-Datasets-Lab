{
 "cells": [
  {
   "cell_type": "code",
   "execution_count": 8,
   "id": "3c382d1c",
   "metadata": {},
   "outputs": [
    {
     "name": "stderr",
     "output_type": "stream",
     "text": [
      "Some weights of the model checkpoint at bert-base-uncased were not used when initializing BertForMaskedLM: ['bert.pooler.dense.bias', 'bert.pooler.dense.weight', 'cls.seq_relationship.bias', 'cls.seq_relationship.weight']\n",
      "- This IS expected if you are initializing BertForMaskedLM from the checkpoint of a model trained on another task or with another architecture (e.g. initializing a BertForSequenceClassification model from a BertForPreTraining model).\n",
      "- This IS NOT expected if you are initializing BertForMaskedLM from the checkpoint of a model that you expect to be exactly identical (initializing a BertForSequenceClassification model from a BertForSequenceClassification model).\n"
     ]
    }
   ],
   "source": [
    "from transformers import AutoTokenizer,AutoModelForMaskedLM\n",
    "model_checkpoint=\"bert-base-uncased\"\n",
    "model=AutoModelForMaskedLM.from_pretrained(model_checkpoint)\n",
    "tokenizer=AutoTokenizer.from_pretrained(model_checkpoint)"
   ]
  },
  {
   "cell_type": "code",
   "execution_count": 9,
   "id": "2ee6ea5e",
   "metadata": {},
   "outputs": [],
   "source": [
    "car_sentences = [\n",
    "    \"A red sports car is speeding down a highway.\",\n",
    "    \"A mechanic is repairing a car in a garage.\",\n",
    "    \"A family is loading luggage into the trunk of a car.\",\n",
    "    \"Two cars are racing on a mountain road.\",\n",
    "    \"A man is washing his car in the driveway.\",\n",
    "    \"A woman is getting into a parked sedan.\",\n",
    "    \"A convertible is driving along the coast at sunset.\",\n",
    "    \"Children are sitting in the backseat of a minivan.\",\n",
    "    \"A taxi is stopping to pick up passengers.\",\n",
    "    \"A police car is parked on the side of the road.\",\n",
    "    \"A group of vintage cars is on display at a car show.\",\n",
    "    \"A delivery van is unloading packages in front of a store.\",\n",
    "    \"A driver is refueling at a gas station.\",\n",
    "    \"A tow truck is pulling a broken-down vehicle.\",\n",
    "    \"A car is covered in snow on a winter morning.\",\n",
    "    \"A couple is sitting in a car at a drive-in movie theater.\",\n",
    "    \"A car is stuck in traffic on a busy street.\",\n",
    "    \"A rally car is jumping over a dirt ramp.\",\n",
    "    \"A driver is checking the tire pressure before a trip.\",\n",
    "    \"People are admiring a classic car from the 1950s.\",\n",
    "    \"A child is pretending to drive a parked car.\",\n",
    "    \"A sports car is parked in front of a luxury hotel.\",\n",
    "    \"A convertible is cruising through the countryside.\",\n",
    "    \"A man is installing a baby seat in the back of a car.\",\n",
    "    \"An electric car is plugged into a charging station.\",\n",
    "    \"A racecar is making a sharp turn on the racetrack.\",\n",
    "    \"A limousine is arriving at a wedding venue.\",\n",
    "    \"A car alarm is going off in a parking lot.\",\n",
    "    \"A woman is using her key fob to unlock her car.\",\n",
    "    \"A traffic jam stretches down a multi-lane road.\"\n",
    "]\n"
   ]
  },
  {
   "cell_type": "code",
   "execution_count": 10,
   "id": "0dd352b0",
   "metadata": {},
   "outputs": [],
   "source": [
    "from datasets import Dataset\n",
    "\n",
    "data_set=Dataset.from_dict({\"text\":car_sentences})"
   ]
  },
  {
   "cell_type": "code",
   "execution_count": 11,
   "id": "1a7585ce",
   "metadata": {},
   "outputs": [
    {
     "data": {
      "text/plain": [
       "Dataset({\n",
       "    features: ['text'],\n",
       "    num_rows: 30\n",
       "})"
      ]
     },
     "execution_count": 11,
     "metadata": {},
     "output_type": "execute_result"
    }
   ],
   "source": [
    "data_set"
   ]
  },
  {
   "cell_type": "code",
   "execution_count": 15,
   "id": "0d728f19",
   "metadata": {},
   "outputs": [],
   "source": [
    "def preprocess(example):\n",
    "    model_inputs=tokenizer(example[\"text\"])\n",
    "    with tokenizer.as_target_tokenizer():\n",
    "        model_inputs[\"labels\"]=tokenizer(example[\"text\"]).input_ids\n",
    "    return model_inputs"
   ]
  },
  {
   "cell_type": "code",
   "execution_count": 16,
   "id": "2d3c8d75",
   "metadata": {},
   "outputs": [
    {
     "name": "stderr",
     "output_type": "stream",
     "text": [
      "Map: 100%|██████████| 30/30 [00:00<00:00, 2853.85 examples/s]\n"
     ]
    }
   ],
   "source": [
    "tokenized_dataset=data_set.map(preprocess)"
   ]
  },
  {
   "cell_type": "code",
   "execution_count": 18,
   "id": "2e4a2d07",
   "metadata": {},
   "outputs": [],
   "source": [
    "tokenized_dataset=tokenized_dataset.remove_columns([\"text\"])"
   ]
  },
  {
   "cell_type": "code",
   "execution_count": 1,
   "id": "19d12aed",
   "metadata": {},
   "outputs": [
    {
     "name": "stderr",
     "output_type": "stream",
     "text": [
      "c:\\Users\\izuna\\miniconda3\\envs\\torch-env\\Lib\\site-packages\\tqdm\\auto.py:21: TqdmWarning: IProgress not found. Please update jupyter and ipywidgets. See https://ipywidgets.readthedocs.io/en/stable/user_install.html\n",
      "  from .autonotebook import tqdm as notebook_tqdm\n"
     ]
    },
    {
     "ename": "NameError",
     "evalue": "name 'model' is not defined",
     "output_type": "error",
     "traceback": [
      "\u001b[31m---------------------------------------------------------------------------\u001b[39m",
      "\u001b[31mNameError\u001b[39m                                 Traceback (most recent call last)",
      "\u001b[36mCell\u001b[39m\u001b[36m \u001b[39m\u001b[32mIn[1]\u001b[39m\u001b[32m, line 11\u001b[39m\n\u001b[32m      1\u001b[39m \u001b[38;5;28;01mfrom\u001b[39;00m\u001b[38;5;250m \u001b[39m\u001b[34;01mtransformers\u001b[39;00m\u001b[38;5;250m \u001b[39m\u001b[38;5;28;01mimport\u001b[39;00m Trainer,TrainingArguments\n\u001b[32m      3\u001b[39m training_arguments=TrainingArguments(\n\u001b[32m      4\u001b[39m     output_dir=\u001b[33m\"\u001b[39m\u001b[33mexercice1\u001b[39m\u001b[33m\"\u001b[39m,\n\u001b[32m      5\u001b[39m     logging_strategy=\u001b[33m\"\u001b[39m\u001b[33mepoch\u001b[39m\u001b[33m\"\u001b[39m,\n\u001b[32m   (...)\u001b[39m\u001b[32m      8\u001b[39m \n\u001b[32m      9\u001b[39m )\n\u001b[32m     10\u001b[39m trainer=Trainer(\n\u001b[32m---> \u001b[39m\u001b[32m11\u001b[39m     model=\u001b[43mmodel\u001b[49m,\n\u001b[32m     12\u001b[39m     tokenizer=tokenizer,\n\u001b[32m     13\u001b[39m     train_dataset=tokenized_dataset,\n\u001b[32m     14\u001b[39m     args=training_arguments\n\u001b[32m     15\u001b[39m )\n",
      "\u001b[31mNameError\u001b[39m: name 'model' is not defined"
     ]
    }
   ],
   "source": [
    "from transformers import Trainer,TrainingArguments\n",
    "\n",
    "training_arguments=TrainingArguments(\n",
    "    output_dir=\"exercice1\",\n",
    "    logging_strategy=\"epoch\",\n",
    "    num_train_epochs=10,\n",
    "    learning_rate=2e-5\n",
    "    \n",
    ")\n",
    "trainer=Trainer(\n",
    "    model=model,\n",
    "    tokenizer=tokenizer,\n",
    "    train_dataset=tokenized_dataset,\n",
    "    args=training_arguments\n",
    ")\n"
   ]
  }
 ],
 "metadata": {
  "kernelspec": {
   "display_name": "torch-env",
   "language": "python",
   "name": "python3"
  },
  "language_info": {
   "codemirror_mode": {
    "name": "ipython",
    "version": 3
   },
   "file_extension": ".py",
   "mimetype": "text/x-python",
   "name": "python",
   "nbconvert_exporter": "python",
   "pygments_lexer": "ipython3",
   "version": "3.11.13"
  }
 },
 "nbformat": 4,
 "nbformat_minor": 5
}
